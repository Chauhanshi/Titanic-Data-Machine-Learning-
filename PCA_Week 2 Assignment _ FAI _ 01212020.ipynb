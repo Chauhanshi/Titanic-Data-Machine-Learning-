{
 "cells": [
  {
   "cell_type": "markdown",
   "metadata": {},
   "source": [
    "# Shivam Chauhan week 2 assignment: PCA on Titanic Dataset "
   ]
  },
  {
   "cell_type": "code",
   "execution_count": 58,
   "metadata": {},
   "outputs": [],
   "source": [
    "#loading the libraries \n",
    "import pandas as pd\n",
    "import os\n",
    "from matplotlib import pyplot as plt\n"
   ]
  },
  {
   "cell_type": "code",
   "execution_count": 59,
   "metadata": {},
   "outputs": [],
   "source": [
    "#loading the files\n",
    "os.getcwd()\n",
    "os.chdir(\"C:/Users\\Shivam\\OneDrive - Northeastern University\\STUDY\\EAI 6000 - FAI\\Week 1 - logistic\")\n",
    "os.getcwd()\n",
    "df = pd.read_csv(\"test_data.csv\")"
   ]
  },
  {
   "cell_type": "code",
   "execution_count": 60,
   "metadata": {},
   "outputs": [
    {
     "data": {
      "text/html": [
       "<div>\n",
       "<style scoped>\n",
       "    .dataframe tbody tr th:only-of-type {\n",
       "        vertical-align: middle;\n",
       "    }\n",
       "\n",
       "    .dataframe tbody tr th {\n",
       "        vertical-align: top;\n",
       "    }\n",
       "\n",
       "    .dataframe thead th {\n",
       "        text-align: right;\n",
       "    }\n",
       "</style>\n",
       "<table border=\"1\" class=\"dataframe\">\n",
       "  <thead>\n",
       "    <tr style=\"text-align: right;\">\n",
       "      <th></th>\n",
       "      <th>Survived</th>\n",
       "      <th>Sex</th>\n",
       "      <th>Age</th>\n",
       "      <th>Fare</th>\n",
       "      <th>Pclass_1</th>\n",
       "      <th>Pclass_2</th>\n",
       "      <th>Pclass_3</th>\n",
       "      <th>Family_size</th>\n",
       "      <th>Title_1</th>\n",
       "      <th>Title_2</th>\n",
       "      <th>Title_3</th>\n",
       "      <th>Title_4</th>\n",
       "      <th>Emb_1</th>\n",
       "      <th>Emb_2</th>\n",
       "      <th>Emb_3</th>\n",
       "    </tr>\n",
       "  </thead>\n",
       "  <tbody>\n",
       "    <tr>\n",
       "      <th>0</th>\n",
       "      <td>0</td>\n",
       "      <td>1</td>\n",
       "      <td>0.2000</td>\n",
       "      <td>0.050749</td>\n",
       "      <td>0</td>\n",
       "      <td>1</td>\n",
       "      <td>0</td>\n",
       "      <td>0.0</td>\n",
       "      <td>1</td>\n",
       "      <td>0</td>\n",
       "      <td>0</td>\n",
       "      <td>0</td>\n",
       "      <td>0</td>\n",
       "      <td>0</td>\n",
       "      <td>1</td>\n",
       "    </tr>\n",
       "    <tr>\n",
       "      <th>1</th>\n",
       "      <td>0</td>\n",
       "      <td>0</td>\n",
       "      <td>0.3500</td>\n",
       "      <td>0.135753</td>\n",
       "      <td>0</td>\n",
       "      <td>0</td>\n",
       "      <td>1</td>\n",
       "      <td>1.0</td>\n",
       "      <td>0</td>\n",
       "      <td>0</td>\n",
       "      <td>0</td>\n",
       "      <td>1</td>\n",
       "      <td>0</td>\n",
       "      <td>0</td>\n",
       "      <td>1</td>\n",
       "    </tr>\n",
       "    <tr>\n",
       "      <th>2</th>\n",
       "      <td>0</td>\n",
       "      <td>1</td>\n",
       "      <td>0.3500</td>\n",
       "      <td>0.059914</td>\n",
       "      <td>1</td>\n",
       "      <td>0</td>\n",
       "      <td>0</td>\n",
       "      <td>0.0</td>\n",
       "      <td>1</td>\n",
       "      <td>0</td>\n",
       "      <td>0</td>\n",
       "      <td>0</td>\n",
       "      <td>1</td>\n",
       "      <td>0</td>\n",
       "      <td>0</td>\n",
       "    </tr>\n",
       "    <tr>\n",
       "      <th>3</th>\n",
       "      <td>0</td>\n",
       "      <td>1</td>\n",
       "      <td>0.3125</td>\n",
       "      <td>0.015412</td>\n",
       "      <td>0</td>\n",
       "      <td>0</td>\n",
       "      <td>1</td>\n",
       "      <td>0.0</td>\n",
       "      <td>1</td>\n",
       "      <td>0</td>\n",
       "      <td>0</td>\n",
       "      <td>0</td>\n",
       "      <td>0</td>\n",
       "      <td>0</td>\n",
       "      <td>1</td>\n",
       "    </tr>\n",
       "    <tr>\n",
       "      <th>4</th>\n",
       "      <td>0</td>\n",
       "      <td>1</td>\n",
       "      <td>0.4875</td>\n",
       "      <td>0.025374</td>\n",
       "      <td>0</td>\n",
       "      <td>1</td>\n",
       "      <td>0</td>\n",
       "      <td>0.0</td>\n",
       "      <td>1</td>\n",
       "      <td>0</td>\n",
       "      <td>0</td>\n",
       "      <td>0</td>\n",
       "      <td>0</td>\n",
       "      <td>0</td>\n",
       "      <td>1</td>\n",
       "    </tr>\n",
       "  </tbody>\n",
       "</table>\n",
       "</div>"
      ],
      "text/plain": [
       "   Survived  Sex     Age      Fare  Pclass_1  Pclass_2  Pclass_3  Family_size  \\\n",
       "0         0    1  0.2000  0.050749         0         1         0          0.0   \n",
       "1         0    0  0.3500  0.135753         0         0         1          1.0   \n",
       "2         0    1  0.3500  0.059914         1         0         0          0.0   \n",
       "3         0    1  0.3125  0.015412         0         0         1          0.0   \n",
       "4         0    1  0.4875  0.025374         0         1         0          0.0   \n",
       "\n",
       "   Title_1  Title_2  Title_3  Title_4  Emb_1  Emb_2  Emb_3  \n",
       "0        1        0        0        0      0      0      1  \n",
       "1        0        0        0        1      0      0      1  \n",
       "2        1        0        0        0      1      0      0  \n",
       "3        1        0        0        0      0      0      1  \n",
       "4        1        0        0        0      0      0      1  "
      ]
     },
     "execution_count": 60,
     "metadata": {},
     "output_type": "execute_result"
    }
   ],
   "source": [
    "#Removing the unique ID which are column 1 and 2. \n",
    "df.drop(df.columns[:2], axis=1, inplace = True)\n",
    "df.head(5)"
   ]
  },
  {
   "cell_type": "markdown",
   "metadata": {},
   "source": [
    "# PCA #"
   ]
  },
  {
   "cell_type": "markdown",
   "metadata": {},
   "source": [
    "First step is to Converting the data into standard normal distribution. However, our data is already distributed normally. "
   ]
  },
  {
   "cell_type": "code",
   "execution_count": 61,
   "metadata": {
    "scrolled": true
   },
   "outputs": [
    {
     "data": {
      "text/html": [
       "<div>\n",
       "<style scoped>\n",
       "    .dataframe tbody tr th:only-of-type {\n",
       "        vertical-align: middle;\n",
       "    }\n",
       "\n",
       "    .dataframe tbody tr th {\n",
       "        vertical-align: top;\n",
       "    }\n",
       "\n",
       "    .dataframe thead th {\n",
       "        text-align: right;\n",
       "    }\n",
       "</style>\n",
       "<table border=\"1\" class=\"dataframe\">\n",
       "  <thead>\n",
       "    <tr style=\"text-align: right;\">\n",
       "      <th></th>\n",
       "      <th>Survived</th>\n",
       "      <th>Sex</th>\n",
       "      <th>Age</th>\n",
       "      <th>Fare</th>\n",
       "      <th>Pclass_1</th>\n",
       "      <th>Pclass_2</th>\n",
       "      <th>Pclass_3</th>\n",
       "      <th>Family_size</th>\n",
       "      <th>Title_1</th>\n",
       "      <th>Title_2</th>\n",
       "      <th>Title_3</th>\n",
       "      <th>Title_4</th>\n",
       "      <th>Emb_1</th>\n",
       "      <th>Emb_2</th>\n",
       "      <th>Emb_3</th>\n",
       "    </tr>\n",
       "  </thead>\n",
       "  <tbody>\n",
       "    <tr>\n",
       "      <th>count</th>\n",
       "      <td>100.000000</td>\n",
       "      <td>100.000000</td>\n",
       "      <td>100.000000</td>\n",
       "      <td>100.000000</td>\n",
       "      <td>100.000000</td>\n",
       "      <td>100.000000</td>\n",
       "      <td>100.00000</td>\n",
       "      <td>100.000000</td>\n",
       "      <td>100.000000</td>\n",
       "      <td>100.00</td>\n",
       "      <td>100.00000</td>\n",
       "      <td>100.000000</td>\n",
       "      <td>100.00000</td>\n",
       "      <td>100.000000</td>\n",
       "      <td>100.000000</td>\n",
       "    </tr>\n",
       "    <tr>\n",
       "      <th>mean</th>\n",
       "      <td>0.360000</td>\n",
       "      <td>0.650000</td>\n",
       "      <td>0.355656</td>\n",
       "      <td>0.048333</td>\n",
       "      <td>0.230000</td>\n",
       "      <td>0.200000</td>\n",
       "      <td>0.57000</td>\n",
       "      <td>0.104000</td>\n",
       "      <td>0.770000</td>\n",
       "      <td>0.01</td>\n",
       "      <td>0.08000</td>\n",
       "      <td>0.140000</td>\n",
       "      <td>0.21000</td>\n",
       "      <td>0.040000</td>\n",
       "      <td>0.740000</td>\n",
       "    </tr>\n",
       "    <tr>\n",
       "      <th>std</th>\n",
       "      <td>0.482418</td>\n",
       "      <td>0.479372</td>\n",
       "      <td>0.161188</td>\n",
       "      <td>0.053429</td>\n",
       "      <td>0.422953</td>\n",
       "      <td>0.402015</td>\n",
       "      <td>0.49757</td>\n",
       "      <td>0.207885</td>\n",
       "      <td>0.422953</td>\n",
       "      <td>0.10</td>\n",
       "      <td>0.27266</td>\n",
       "      <td>0.348735</td>\n",
       "      <td>0.40936</td>\n",
       "      <td>0.196946</td>\n",
       "      <td>0.440844</td>\n",
       "    </tr>\n",
       "    <tr>\n",
       "      <th>min</th>\n",
       "      <td>0.000000</td>\n",
       "      <td>0.000000</td>\n",
       "      <td>0.005250</td>\n",
       "      <td>0.000000</td>\n",
       "      <td>0.000000</td>\n",
       "      <td>0.000000</td>\n",
       "      <td>0.00000</td>\n",
       "      <td>0.000000</td>\n",
       "      <td>0.000000</td>\n",
       "      <td>0.00</td>\n",
       "      <td>0.00000</td>\n",
       "      <td>0.000000</td>\n",
       "      <td>0.00000</td>\n",
       "      <td>0.000000</td>\n",
       "      <td>0.000000</td>\n",
       "    </tr>\n",
       "    <tr>\n",
       "      <th>25%</th>\n",
       "      <td>0.000000</td>\n",
       "      <td>0.000000</td>\n",
       "      <td>0.271875</td>\n",
       "      <td>0.015412</td>\n",
       "      <td>0.000000</td>\n",
       "      <td>0.000000</td>\n",
       "      <td>0.00000</td>\n",
       "      <td>0.000000</td>\n",
       "      <td>1.000000</td>\n",
       "      <td>0.00</td>\n",
       "      <td>0.00000</td>\n",
       "      <td>0.000000</td>\n",
       "      <td>0.00000</td>\n",
       "      <td>0.000000</td>\n",
       "      <td>0.000000</td>\n",
       "    </tr>\n",
       "    <tr>\n",
       "      <th>50%</th>\n",
       "      <td>0.000000</td>\n",
       "      <td>1.000000</td>\n",
       "      <td>0.350000</td>\n",
       "      <td>0.025374</td>\n",
       "      <td>0.000000</td>\n",
       "      <td>0.000000</td>\n",
       "      <td>1.00000</td>\n",
       "      <td>0.000000</td>\n",
       "      <td>1.000000</td>\n",
       "      <td>0.00</td>\n",
       "      <td>0.00000</td>\n",
       "      <td>0.000000</td>\n",
       "      <td>0.00000</td>\n",
       "      <td>0.000000</td>\n",
       "      <td>1.000000</td>\n",
       "    </tr>\n",
       "    <tr>\n",
       "      <th>75%</th>\n",
       "      <td>1.000000</td>\n",
       "      <td>1.000000</td>\n",
       "      <td>0.426562</td>\n",
       "      <td>0.058556</td>\n",
       "      <td>0.000000</td>\n",
       "      <td>0.000000</td>\n",
       "      <td>1.00000</td>\n",
       "      <td>0.100000</td>\n",
       "      <td>1.000000</td>\n",
       "      <td>0.00</td>\n",
       "      <td>0.00000</td>\n",
       "      <td>0.000000</td>\n",
       "      <td>0.00000</td>\n",
       "      <td>0.000000</td>\n",
       "      <td>1.000000</td>\n",
       "    </tr>\n",
       "    <tr>\n",
       "      <th>max</th>\n",
       "      <td>1.000000</td>\n",
       "      <td>1.000000</td>\n",
       "      <td>0.925000</td>\n",
       "      <td>0.321798</td>\n",
       "      <td>1.000000</td>\n",
       "      <td>1.000000</td>\n",
       "      <td>1.00000</td>\n",
       "      <td>1.000000</td>\n",
       "      <td>1.000000</td>\n",
       "      <td>1.00</td>\n",
       "      <td>1.00000</td>\n",
       "      <td>1.000000</td>\n",
       "      <td>1.00000</td>\n",
       "      <td>1.000000</td>\n",
       "      <td>1.000000</td>\n",
       "    </tr>\n",
       "  </tbody>\n",
       "</table>\n",
       "</div>"
      ],
      "text/plain": [
       "         Survived         Sex         Age        Fare    Pclass_1    Pclass_2  \\\n",
       "count  100.000000  100.000000  100.000000  100.000000  100.000000  100.000000   \n",
       "mean     0.360000    0.650000    0.355656    0.048333    0.230000    0.200000   \n",
       "std      0.482418    0.479372    0.161188    0.053429    0.422953    0.402015   \n",
       "min      0.000000    0.000000    0.005250    0.000000    0.000000    0.000000   \n",
       "25%      0.000000    0.000000    0.271875    0.015412    0.000000    0.000000   \n",
       "50%      0.000000    1.000000    0.350000    0.025374    0.000000    0.000000   \n",
       "75%      1.000000    1.000000    0.426562    0.058556    0.000000    0.000000   \n",
       "max      1.000000    1.000000    0.925000    0.321798    1.000000    1.000000   \n",
       "\n",
       "        Pclass_3  Family_size     Title_1  Title_2    Title_3     Title_4  \\\n",
       "count  100.00000   100.000000  100.000000   100.00  100.00000  100.000000   \n",
       "mean     0.57000     0.104000    0.770000     0.01    0.08000    0.140000   \n",
       "std      0.49757     0.207885    0.422953     0.10    0.27266    0.348735   \n",
       "min      0.00000     0.000000    0.000000     0.00    0.00000    0.000000   \n",
       "25%      0.00000     0.000000    1.000000     0.00    0.00000    0.000000   \n",
       "50%      1.00000     0.000000    1.000000     0.00    0.00000    0.000000   \n",
       "75%      1.00000     0.100000    1.000000     0.00    0.00000    0.000000   \n",
       "max      1.00000     1.000000    1.000000     1.00    1.00000    1.000000   \n",
       "\n",
       "           Emb_1       Emb_2       Emb_3  \n",
       "count  100.00000  100.000000  100.000000  \n",
       "mean     0.21000    0.040000    0.740000  \n",
       "std      0.40936    0.196946    0.440844  \n",
       "min      0.00000    0.000000    0.000000  \n",
       "25%      0.00000    0.000000    0.000000  \n",
       "50%      0.00000    0.000000    1.000000  \n",
       "75%      0.00000    0.000000    1.000000  \n",
       "max      1.00000    1.000000    1.000000  "
      ]
     },
     "execution_count": 61,
     "metadata": {},
     "output_type": "execute_result"
    }
   ],
   "source": [
    "df.describe()\n"
   ]
  },
  {
   "cell_type": "markdown",
   "metadata": {},
   "source": [
    "\n",
    "Data is normally distributed. Now let's convert it into a Standard Normal distribution which will have a mean of 0 and a standard deviation of 1. In this case we will just shift the mean. "
   ]
  },
  {
   "cell_type": "code",
   "execution_count": 62,
   "metadata": {},
   "outputs": [],
   "source": [
    "from sklearn.preprocessing import StandardScaler\n",
    "scaler = StandardScaler()\n",
    "scaler.fit(df)\n",
    "snd_df = scaler.transform(df) "
   ]
  },
  {
   "cell_type": "code",
   "execution_count": 63,
   "metadata": {},
   "outputs": [
    {
     "data": {
      "text/plain": [
       "(100, 15)"
      ]
     },
     "execution_count": 63,
     "metadata": {},
     "output_type": "execute_result"
    }
   ],
   "source": [
    "snd_df.shape"
   ]
  },
  {
   "cell_type": "markdown",
   "metadata": {},
   "source": [
    "So we have 15 columns or dimensions. We will reduce it to 10. "
   ]
  },
  {
   "cell_type": "code",
   "execution_count": 64,
   "metadata": {},
   "outputs": [],
   "source": [
    "#applying PCA\n",
    "from sklearn.decomposition import PCA\n",
    "pca = PCA(n_components = 10 )"
   ]
  },
  {
   "cell_type": "code",
   "execution_count": 65,
   "metadata": {},
   "outputs": [],
   "source": [
    "#fitting the PCA into our dataset\n",
    "pca.fit(snd_df)\n",
    "df_pca  = pca.transform(snd_df)"
   ]
  },
  {
   "cell_type": "code",
   "execution_count": 66,
   "metadata": {},
   "outputs": [
    {
     "data": {
      "text/html": [
       "<div>\n",
       "<style scoped>\n",
       "    .dataframe tbody tr th:only-of-type {\n",
       "        vertical-align: middle;\n",
       "    }\n",
       "\n",
       "    .dataframe tbody tr th {\n",
       "        vertical-align: top;\n",
       "    }\n",
       "\n",
       "    .dataframe thead th {\n",
       "        text-align: right;\n",
       "    }\n",
       "</style>\n",
       "<table border=\"1\" class=\"dataframe\">\n",
       "  <thead>\n",
       "    <tr style=\"text-align: right;\">\n",
       "      <th></th>\n",
       "      <th>PC1</th>\n",
       "      <th>PC2</th>\n",
       "      <th>PC3</th>\n",
       "      <th>PC4</th>\n",
       "      <th>PC5</th>\n",
       "      <th>PC6</th>\n",
       "      <th>PC7</th>\n",
       "      <th>PC8</th>\n",
       "      <th>PC9</th>\n",
       "      <th>PC10</th>\n",
       "    </tr>\n",
       "  </thead>\n",
       "  <tbody>\n",
       "    <tr>\n",
       "      <th>0</th>\n",
       "      <td>-1.261728</td>\n",
       "      <td>-0.358543</td>\n",
       "      <td>-0.818430</td>\n",
       "      <td>1.881803</td>\n",
       "      <td>-1.115318</td>\n",
       "      <td>-0.647551</td>\n",
       "      <td>0.443753</td>\n",
       "      <td>0.079879</td>\n",
       "      <td>-0.460311</td>\n",
       "      <td>-0.845375</td>\n",
       "    </tr>\n",
       "    <tr>\n",
       "      <th>1</th>\n",
       "      <td>2.546138</td>\n",
       "      <td>3.182518</td>\n",
       "      <td>-1.964962</td>\n",
       "      <td>-2.419339</td>\n",
       "      <td>-0.276010</td>\n",
       "      <td>-2.228989</td>\n",
       "      <td>0.149232</td>\n",
       "      <td>1.779264</td>\n",
       "      <td>-0.260113</td>\n",
       "      <td>-0.124688</td>\n",
       "    </tr>\n",
       "    <tr>\n",
       "      <th>2</th>\n",
       "      <td>0.778899</td>\n",
       "      <td>-1.601325</td>\n",
       "      <td>1.921113</td>\n",
       "      <td>0.755336</td>\n",
       "      <td>0.584054</td>\n",
       "      <td>0.280920</td>\n",
       "      <td>-1.176252</td>\n",
       "      <td>0.795049</td>\n",
       "      <td>-1.718642</td>\n",
       "      <td>-0.678997</td>\n",
       "    </tr>\n",
       "    <tr>\n",
       "      <th>3</th>\n",
       "      <td>-1.850081</td>\n",
       "      <td>0.374958</td>\n",
       "      <td>-0.107057</td>\n",
       "      <td>-0.439163</td>\n",
       "      <td>0.113336</td>\n",
       "      <td>0.432906</td>\n",
       "      <td>-0.502754</td>\n",
       "      <td>-0.083223</td>\n",
       "      <td>0.098254</td>\n",
       "      <td>-0.240661</td>\n",
       "    </tr>\n",
       "    <tr>\n",
       "      <th>4</th>\n",
       "      <td>-1.487250</td>\n",
       "      <td>-1.145800</td>\n",
       "      <td>-0.844811</td>\n",
       "      <td>1.340079</td>\n",
       "      <td>-1.250720</td>\n",
       "      <td>-0.655608</td>\n",
       "      <td>0.553302</td>\n",
       "      <td>0.404156</td>\n",
       "      <td>-0.463097</td>\n",
       "      <td>0.566579</td>\n",
       "    </tr>\n",
       "  </tbody>\n",
       "</table>\n",
       "</div>"
      ],
      "text/plain": [
       "        PC1       PC2       PC3       PC4       PC5       PC6       PC7  \\\n",
       "0 -1.261728 -0.358543 -0.818430  1.881803 -1.115318 -0.647551  0.443753   \n",
       "1  2.546138  3.182518 -1.964962 -2.419339 -0.276010 -2.228989  0.149232   \n",
       "2  0.778899 -1.601325  1.921113  0.755336  0.584054  0.280920 -1.176252   \n",
       "3 -1.850081  0.374958 -0.107057 -0.439163  0.113336  0.432906 -0.502754   \n",
       "4 -1.487250 -1.145800 -0.844811  1.340079 -1.250720 -0.655608  0.553302   \n",
       "\n",
       "        PC8       PC9      PC10  \n",
       "0  0.079879 -0.460311 -0.845375  \n",
       "1  1.779264 -0.260113 -0.124688  \n",
       "2  0.795049 -1.718642 -0.678997  \n",
       "3 -0.083223  0.098254 -0.240661  \n",
       "4  0.404156 -0.463097  0.566579  "
      ]
     },
     "execution_count": 66,
     "metadata": {},
     "output_type": "execute_result"
    }
   ],
   "source": [
    "#making a pandas data frame with the principal components (PCs)\n",
    "pc_df = pd.DataFrame(data = df_pca , \n",
    "        columns = ['PC1', 'PC2','PC3','PC4','PC5', 'PC6','PC7','PC8','PC9', 'PC10'])\n",
    "#pc_df['Cluster'] = Y1\n",
    "pc_df.head()"
   ]
  },
  {
   "cell_type": "code",
   "execution_count": 67,
   "metadata": {},
   "outputs": [
    {
     "data": {
      "text/plain": [
       "array([0.20651649, 0.17442108, 0.12635712, 0.11147209, 0.08738817,\n",
       "       0.07535206, 0.06741871, 0.05079743, 0.04714953, 0.02202971])"
      ]
     },
     "execution_count": 67,
     "metadata": {},
     "output_type": "execute_result"
    }
   ],
   "source": [
    "pca.explained_variance_ratio_"
   ]
  },
  {
   "cell_type": "code",
   "execution_count": 68,
   "metadata": {},
   "outputs": [
    {
     "data": {
      "text/plain": [
       "0.9689023931788956"
      ]
     },
     "execution_count": 68,
     "metadata": {},
     "output_type": "execute_result"
    }
   ],
   "source": [
    "sum(pca.explained_variance_ratio_)"
   ]
  },
  {
   "cell_type": "markdown",
   "metadata": {},
   "source": [
    "We can clearly see that the first ten principal components explains over 96% of the variation in the data."
   ]
  },
  {
   "cell_type": "code",
   "execution_count": 73,
   "metadata": {
    "scrolled": true
   },
   "outputs": [
    {
     "data": {
      "image/png": "[encoded data removed]",
      "text/plain": [
       "<Figure size 432x288 with 1 Axes>"
      ]
     },
     "metadata": {
      "needs_background": "light"
     },
     "output_type": "display_data"
    }
   ],
   "source": [
    "#Plotting the Scree plot\n",
    "import seaborn as sns\n",
    "df_pcsp = pd.DataFrame({'var':pca.explained_variance_ratio_,\n",
    "             'PC':['PC1','PC2','PC3','PC4','PC5', 'PC6','PC7','PC8','PC9', 'PC10']})\n",
    "sns.barplot(x='PC',y=\"var\", \n",
    "           data=df_pcsp, color=\"c\");"
   ]
  },
  {
   "cell_type": "markdown",
   "metadata": {},
   "source": [
    "The original 15 dimensional data can be safely reduced to 10 dimensions using PCA because the dataset can be explained by only ten components."
   ]
  },
  {
   "cell_type": "markdown",
   "metadata": {},
   "source": [
    "##  Plotting the data 2 Principal components only "
   ]
  },
  {
   "cell_type": "code",
   "execution_count": 70,
   "metadata": {
    "scrolled": true
   },
   "outputs": [
    {
     "data": {
      "text/plain": [
       "Text(0, 0.5, 'Second principle component')"
      ]
     },
     "execution_count": 70,
     "metadata": {},
     "output_type": "execute_result"
    },
    {
     "data": {
      "image/png": "[encoded data removed]",
      "text/plain": [
       "<Figure size 576x432 with 1 Axes>"
      ]
     },
     "metadata": {
      "needs_background": "light"
     },
     "output_type": "display_data"
    }
   ],
   "source": [
    "plt.figure(figsize=(8,6))\n",
    "plt.scatter(df_pca[:,0],df_pca[:,1],c=df['Survived'])\n",
    "plt.xlabel('First principle component')\n",
    "plt.ylabel('Second principle component')"
   ]
  },
  {
   "cell_type": "markdown",
   "metadata": {},
   "source": [
    "You can see the variation of data for only 2 components are not high. However, when we plot the data into 2 Principal Component, we can see some seperation based on survival and non survival. So we can clearly see 2 clusters for first 2 PC. "
   ]
  }
 ],
 "metadata": {
  "kernelspec": {
   "display_name": "Python 3",
   "language": "python",
   "name": "python3"
  },
  "language_info": {
   "codemirror_mode": {
    "name": "ipython",
    "version": 3
   },
   "file_extension": ".py",
   "mimetype": "text/x-python",
   "name": "python",
   "nbconvert_exporter": "python",
   "pygments_lexer": "ipython3",
   "version": "3.7.3"
  }
 },
 "nbformat": 4,
 "nbformat_minor": 2
}
